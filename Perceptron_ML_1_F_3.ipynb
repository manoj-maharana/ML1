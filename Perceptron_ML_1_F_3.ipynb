{
  "nbformat": 4,
  "nbformat_minor": 0,
  "metadata": {
    "colab": {
      "name": "Perceptron_ML-1-F-3.ipynb",
      "provenance": []
    },
    "kernelspec": {
      "name": "python3",
      "display_name": "Python 3"
    }
  },
  "cells": [
    {
      "cell_type": "code",
      "metadata": {
        "id": "iw6qfqTGWp7M",
        "colab": {
          "base_uri": "https://localhost:8080/"
        },
        "outputId": "233b9ee5-456a-4256-9cb1-38dc1a5163ea"
      },
      "source": [
        "import numpy as np\n",
        "import matplotlib.pyplot as plt\n",
        "apple = np.array([[171,80],[175,78],[180,90]])\n",
        "orange = np.array([[100,60], [99,65],[102,59]])\n",
        "data= np.concatenate((apple, orange), axis=0) # data is 6 rows and 2 columns\n",
        "data = data - np.mean(data,axis=0) # will make data mean = 0\n",
        "print(data)\n",
        "y=[1,1,1, 0, 0, 0]"
      ],
      "execution_count": null,
      "outputs": [
        {
          "output_type": "stream",
          "text": [
            "[[ 33.16666667   8.        ]\n",
            " [ 37.16666667   6.        ]\n",
            " [ 42.16666667  18.        ]\n",
            " [-37.83333333 -12.        ]\n",
            " [-38.83333333  -7.        ]\n",
            " [-35.83333333 -13.        ]]\n"
          ],
          "name": "stdout"
        }
      ]
    },
    {
      "cell_type": "code",
      "metadata": {
        "id": "HAQHyW3WW-jc",
        "colab": {
          "base_uri": "https://localhost:8080/",
          "height": 279
        },
        "outputId": "74050ec7-3294-4c95-dff3-d57b81f7dea7"
      },
      "source": [
        "plt.scatter(np.array(data[0:3,0]), np.array(data[0:3,1]), marker='+', label='apple')\n",
        "plt.scatter(np.array(data[3:6,0]), np.array(data[3:6,1]), marker='*', label='orange')\n",
        "plt.xlabel('redness')\n",
        "plt.ylabel('weight')\n",
        "plt.legend()\n",
        "plt.show()"
      ],
      "execution_count": null,
      "outputs": [
        {
          "output_type": "display_data",
          "data": {
            "image/png": "[encoded data removed]",
            "text/plain": [
              "<Figure size 432x288 with 1 Axes>"
            ]
          },
          "metadata": {
            "tags": [],
            "needs_background": "light"
          }
        }
      ]
    },
    {
      "cell_type": "code",
      "metadata": {
        "id": "oQDhod7X4vdz",
        "colab": {
          "base_uri": "https://localhost:8080/"
        },
        "outputId": "6a789076-7f3d-49a7-c7cc-df13a033245c"
      },
      "source": [
        "correctClassified = 0\n",
        "w = np.random.rand(2,1) # Randomly initialize w\n",
        "w = np.append(w,1) # append w0=1\n",
        "print(w)"
      ],
      "execution_count": null,
      "outputs": [
        {
          "output_type": "stream",
          "text": [
            "[0.01845861 0.34882986 1.        ]\n"
          ],
          "name": "stdout"
        }
      ]
    },
    {
      "cell_type": "code",
      "metadata": {
        "id": "tUXc1daH5RyS",
        "colab": {
          "base_uri": "https://localhost:8080/"
        },
        "outputId": "c4e678a9-22b2-44f8-8198-acb0de7345c7"
      },
      "source": [
        "while (correctClassified != len(data)): #Until everything is classified\n",
        "  for sample in range(len(data)):\n",
        "    x = np.append(data[sample,0:2],1)\n",
        "    if y[sample]==1: #Sample is positive (orange)\n",
        "       if np.dot(np.transpose(w),x)>=0: #WX >= 0\n",
        "         correctClassified=correctClassified+1\n",
        "         print(\"sample is pos\")\n",
        "       else: #orange is classified as apple\n",
        "          w=w+x\n",
        "    else: #Sample is Negative (apple)\n",
        "         if np.dot(np.transpose(w),x)<0: # WX < 0\n",
        "           correctClassified=correctClassified+1\n",
        "           print(\"sample is neg\")\n",
        "         else: #apple is classified as orange\n",
        "           w=w-x\n",
        "  if(correctClassified != len(data)):\n",
        "      correctClassified=0           \n",
        "print(w)      "
      ],
      "execution_count": null,
      "outputs": [
        {
          "output_type": "stream",
          "text": [
            "sample is pos\n",
            "sample is pos\n",
            "sample is pos\n",
            "sample is neg\n",
            "sample is neg\n",
            "sample is neg\n",
            "[0.01845861 0.34882986 1.        ]\n"
          ],
          "name": "stdout"
        }
      ]
    }
  ]
}